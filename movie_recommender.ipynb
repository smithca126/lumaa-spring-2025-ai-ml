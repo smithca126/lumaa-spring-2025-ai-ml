{
 "cells": [
  {
   "cell_type": "markdown",
   "metadata": {},
   "source": [
    "# Simple Content-Based Movie Recommendation System\n",
    "\n",
    "This notebook implements a simple content-based movie recommendation system using TF-IDF and cosine similarity."
   ]
  },
  {
   "cell_type": "markdown",
   "metadata": {},
   "source": [
    "## 0. Install the necessary packages if you have not done so before"
   ]
  },
  {
   "cell_type": "code",
   "execution_count": 20,
   "metadata": {},
   "outputs": [
    {
     "name": "stdout",
     "output_type": "stream",
     "text": [
      "Requirement already satisfied: pandas in c:\\users\\smithca\\appdata\\local\\anaconda3\\lib\\site-packages (2.2.2)\n",
      "Requirement already satisfied: scikit-learn in c:\\users\\smithca\\appdata\\local\\anaconda3\\lib\\site-packages (1.4.2)\n",
      "Requirement already satisfied: numpy in c:\\users\\smithca\\appdata\\local\\anaconda3\\lib\\site-packages (1.26.4)\n",
      "Requirement already satisfied: matplotlib in c:\\users\\smithca\\appdata\\local\\anaconda3\\lib\\site-packages (3.8.4)\n",
      "Requirement already satisfied: seaborn in c:\\users\\smithca\\appdata\\local\\anaconda3\\lib\\site-packages (0.13.2)\n",
      "Requirement already satisfied: python-dateutil>=2.8.2 in c:\\users\\smithca\\appdata\\local\\anaconda3\\lib\\site-packages (from pandas) (2.9.0.post0)\n",
      "Requirement already satisfied: pytz>=2020.1 in c:\\users\\smithca\\appdata\\local\\anaconda3\\lib\\site-packages (from pandas) (2024.1)\n",
      "Requirement already satisfied: tzdata>=2022.7 in c:\\users\\smithca\\appdata\\local\\anaconda3\\lib\\site-packages (from pandas) (2023.3)\n",
      "Requirement already satisfied: scipy>=1.6.0 in c:\\users\\smithca\\appdata\\local\\anaconda3\\lib\\site-packages (from scikit-learn) (1.13.1)\n",
      "Requirement already satisfied: joblib>=1.2.0 in c:\\users\\smithca\\appdata\\local\\anaconda3\\lib\\site-packages (from scikit-learn) (1.4.2)\n",
      "Requirement already satisfied: threadpoolctl>=2.0.0 in c:\\users\\smithca\\appdata\\local\\anaconda3\\lib\\site-packages (from scikit-learn) (2.2.0)\n",
      "Requirement already satisfied: contourpy>=1.0.1 in c:\\users\\smithca\\appdata\\local\\anaconda3\\lib\\site-packages (from matplotlib) (1.2.0)\n",
      "Requirement already satisfied: cycler>=0.10 in c:\\users\\smithca\\appdata\\local\\anaconda3\\lib\\site-packages (from matplotlib) (0.11.0)\n",
      "Requirement already satisfied: fonttools>=4.22.0 in c:\\users\\smithca\\appdata\\local\\anaconda3\\lib\\site-packages (from matplotlib) (4.51.0)\n",
      "Requirement already satisfied: kiwisolver>=1.3.1 in c:\\users\\smithca\\appdata\\local\\anaconda3\\lib\\site-packages (from matplotlib) (1.4.4)\n",
      "Requirement already satisfied: packaging>=20.0 in c:\\users\\smithca\\appdata\\local\\anaconda3\\lib\\site-packages (from matplotlib) (23.2)\n",
      "Requirement already satisfied: pillow>=8 in c:\\users\\smithca\\appdata\\local\\anaconda3\\lib\\site-packages (from matplotlib) (10.3.0)\n",
      "Requirement already satisfied: pyparsing>=2.3.1 in c:\\users\\smithca\\appdata\\local\\anaconda3\\lib\\site-packages (from matplotlib) (3.0.9)\n",
      "Requirement already satisfied: six>=1.5 in c:\\users\\smithca\\appdata\\local\\anaconda3\\lib\\site-packages (from python-dateutil>=2.8.2->pandas) (1.16.0)\n",
      "Note: you may need to restart the kernel to use updated packages.\n"
     ]
    }
   ],
   "source": [
    "%pip install pandas scikit-learn numpy matplotlib seaborn"
   ]
  },
  {
   "cell_type": "markdown",
   "metadata": {},
   "source": [
    "## 1. Import Required Libraries"
   ]
  },
  {
   "cell_type": "code",
   "execution_count": 22,
   "metadata": {},
   "outputs": [],
   "source": [
    "# used for data interpretation\n",
    "from sklearn.feature_extraction.text import TfidfVectorizer\n",
    "from sklearn.metrics.pairwise import cosine_similarity\n",
    "\n",
    "# used for data handling\n",
    "import numpy as np\n",
    "import pandas as pd\n",
    "\n",
    "# used for data visualization\n",
    "import matplotlib.pyplot as plt\n",
    "import seaborn as sns"
   ]
  },
  {
   "cell_type": "markdown",
   "metadata": {},
   "source": [
    "## 2. Load and Preprocess Data"
   ]
  },
  {
   "cell_type": "code",
   "execution_count": 24,
   "metadata": {},
   "outputs": [
    {
     "name": "stdout",
     "output_type": "stream",
     "text": [
      "Full dataset shape: (4803, 21)\n",
      "Sampled dataset shape: (500, 21)\n"
     ]
    }
   ],
   "source": [
    "def preprocess_data(df):\n",
    "    \"\"\"Preprocess the data by filling null values and combining relevant text columns into one.\"\"\"\n",
    "    df['genres'] = df['genres'].apply(lambda x: ' '.join([i['name'] for i in eval(x)]))\n",
    "    df['combined_features'] = df['title'].fillna(\"\") + ' ' + df['genres'].fillna(\"\") + ' ' + df['overview'].fillna(\"\")\n",
    "    return df\n",
    "\n",
    "# load and preprocess data\n",
    "df = pd.read_csv('tmdb_5000_movies.csv')\n",
    "df = preprocess_data(df)\n",
    "print(f\"Full dataset shape: {df.shape}\")\n",
    "\n",
    "# use only a sample of 500 for training to keep the implementation simple\n",
    "df_sample = df.sample(n=500, random_state=42)\n",
    "print(f\"Sampled dataset shape: {df_sample.shape}\")"
   ]
  },
  {
   "cell_type": "markdown",
   "metadata": {},
   "source": [
    "## 3. Create TF-IDF Matrix"
   ]
  },
  {
   "cell_type": "code",
   "execution_count": 26,
   "metadata": {},
   "outputs": [
    {
     "name": "stdout",
     "output_type": "stream",
     "text": [
      "TF-IDF matrix shape: (500, 6229)\n"
     ]
    }
   ],
   "source": [
    "tfidf = TfidfVectorizer(stop_words='english')\n",
    "tfidf_matrix = tfidf.fit_transform(df_sample['combined_features'])\n",
    "\n",
    "print(f\"TF-IDF matrix shape: {tfidf_matrix.shape}\")"
   ]
  },
  {
   "cell_type": "markdown",
   "metadata": {},
   "source": [
    "## 4. Implement Recommendation Function"
   ]
  },
  {
   "cell_type": "code",
   "execution_count": 28,
   "metadata": {},
   "outputs": [],
   "source": [
    "def get_recommendations(user_input, df,tfidf_vectorizer, tfidf_matrix, top_n=5):\n",
    "    \"\"\"Get top N movie recommendations based on user input.\"\"\"\n",
    "    # user_tfidf = TfidfVectorizer(stop_words='english').fit(df['combined_features'])\n",
    "    user_vector = tfidf_vectorizer.transform([user_input])\n",
    "    \n",
    "    cosine_similarities = cosine_similarity(user_vector, tfidf_matrix).flatten()\n",
    "    related_docs_indices = cosine_similarities.argsort()[:-top_n-1:-1]\n",
    "    \n",
    "    return [(df.iloc[idx]['title'], cosine_similarities[idx]) for idx in related_docs_indices]"
   ]
  },
  {
   "cell_type": "markdown",
   "metadata": {},
   "source": [
    "## 5. Visualize Recommendations"
   ]
  },
  {
   "cell_type": "code",
   "execution_count": 30,
   "metadata": {},
   "outputs": [],
   "source": [
    "def plot_recommendations(recommendations):\n",
    "    \"\"\"Plots the similarity scores as a barplot to provide an easy visualization\"\"\"\n",
    "    titles, scores = zip(*recommendations)\n",
    "    plt.figure(figsize=(10, 6))\n",
    "    sns.barplot(x=list(scores), y=list(titles))\n",
    "    plt.title(\"Top 5 Movie Recommendations\")\n",
    "    plt.xlabel(\"Similarity Score\")\n",
    "    plt.ylabel(\"Movie Title\")\n",
    "    plt.show()"
   ]
  },
  {
   "cell_type": "markdown",
   "metadata": {},
   "source": [
    "## 6. Test the Recommendation System"
   ]
  },
  {
   "cell_type": "code",
   "execution_count": 32,
   "metadata": {},
   "outputs": [
    {
     "name": "stdout",
     "output_type": "stream",
     "text": [
      "Top 5 movie recommendations:\n",
      "1. Garfield (Similarity: 0.21)\n",
      "2. Supporting Characters (Similarity: 0.18)\n",
      "3. Don't Be Afraid of the Dark (Similarity: 0.18)\n",
      "4. Away We Go (Similarity: 0.17)\n",
      "5. What Just Happened (Similarity: 0.15)\n"
     ]
    },
    {
     "data": {
      "image/png": "[encoded data removed]",
      "text/plain": [
       "<Figure size 1000x600 with 1 Axes>"
      ]
     },
     "metadata": {},
     "output_type": "display_data"
    }
   ],
   "source": [
    "user_input = \"I want to watch a comedy movie.\"\n",
    "recommendations = get_recommendations(user_input, df_sample, tfidf, tfidf_matrix)\n",
    "\n",
    "print(\"Top 5 movie recommendations:\")\n",
    "for i, (title, score) in enumerate(recommendations, 1):\n",
    "    print(f\"{i}. {title} (Similarity: {score:.2f})\")\n",
    "\n",
    "plot_recommendations(recommendations)"
   ]
  }
 ],
 "metadata": {
  "kernelspec": {
   "display_name": "Python 3 (ipykernel)",
   "language": "python",
   "name": "python3"
  },
  "language_info": {
   "codemirror_mode": {
    "name": "ipython",
    "version": 3
   },
   "file_extension": ".py",
   "mimetype": "text/x-python",
   "name": "python",
   "nbconvert_exporter": "python",
   "pygments_lexer": "ipython3",
   "version": "3.12.4"
  }
 },
 "nbformat": 4,
 "nbformat_minor": 4
}
