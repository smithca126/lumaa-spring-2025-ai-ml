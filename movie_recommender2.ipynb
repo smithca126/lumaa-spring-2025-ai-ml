{
 "cells": [
  {
   "cell_type": "markdown",
   "metadata": {},
   "source": [
    "# Simple Content-Based Movie Recommendation System\n",
    "\n",
    "This notebook implements a simple content-based movie recommendation system using TF-IDF and cosine similarity."
   ]
  },
  {
   "cell_type": "markdown",
   "metadata": {},
   "source": [
    "## 1. Import Required Libraries"
   ]
  },
  {
   "cell_type": "code",
   "execution_count": null,
   "metadata": {},
   "outputs": [],
   "source": [
    "import pandas as pd\n",
    "from sklearn.feature_extraction.text import TfidfVectorizer\n",
    "from sklearn.metrics.pairwise import cosine_similarity\n",
    "import numpy as np\n",
    "import matplotlib.pyplot as plt\n",
    "import seaborn as sns"
   ]
  },
  {
   "cell_type": "markdown",
   "metadata": {},
   "source": [
    "## 2. Load and Preprocess Data"
   ]
  },
  {
   "cell_type": "code",
   "execution_count": null,
   "metadata": {},
   "outputs": [],
   "source": [
    "def load_data(file_path):\n",
    "    \"\"\"Load movie data from CSV file.\"\"\"\n",
    "    return pd.read_csv(file_path)\n",
    "\n",
    "def preprocess_data(df):\n",
    "    \"\"\"Preprocess the data by combining relevant text columns.\"\"\"\n",
    "    df['genres'] = df['genres'].apply(lambda x: ' '.join([i['name'] for i in eval(x)]))\n",
    "    df['combined_features'] = df['title'] + ' ' + df['genres'] + ' ' + df['overview']\n",
    "    return df\n",
    "\n",
    "# Load and preprocess data\n",
    "df = load_data('tmdb_5000_movies.csv')\n",
    "df = preprocess_data(df)\n",
    "\n",
    "print(f\"Full dataset shape: {df.shape}\")\n",
    "df.head()"
   ]
  },
  {
   "cell_type": "markdown",
   "metadata": {},
   "source": [
    "## 3. Sample 500 Movies"
   ]
  },
  {
   "cell_type": "code",
   "execution_count": null,
   "metadata": {},
   "outputs": [],
   "source": [
    "# Sample 500 movies randomly\n",
    "df_sample = df.sample(n=500, random_state=42)\n",
    "print(f\"Sampled dataset shape: {df_sample.shape}\")\n",
    "df_sample.head()"
   ]
  },
  {
   "cell_type": "markdown",
   "metadata": {},
   "source": [
    "## 4. Create TF-IDF Matrix"
   ]
  },
  {
   "cell_type": "code",
   "execution_count": null,
   "metadata": {},
   "outputs": [],
   "source": [
    "def create_tfidf_matrix(df):\n",
    "    \"\"\"Create TF-IDF matrix from the combined features.\"\"\"\n",
    "    tfidf = TfidfVectorizer(stop_words='english')\n",
    "    return tfidf.fit_transform(df['combined_features'])\n",
    "\n",
    "tfidf_matrix = create_tfidf_matrix(df_sample)\n",
    "print(f\"TF-IDF matrix shape: {tfidf_matrix.shape}\")"
   ]
  },
  {
   "cell_type": "markdown",
   "metadata": {},
   "source": [
    "## 5. Implement Recommendation Function"
   ]
  },
  {
   "cell_type": "code",
   "execution_count": null,
   "metadata": {},
   "outputs": [],
   "source": [
    "def get_recommendations(user_input, df, tfidf_matrix, top_n=5):\n",
    "    \"\"\"Get top N movie recommendations based on user input.\"\"\"\n",
    "    user_tfidf = TfidfVectorizer(stop_words='english').fit(df['combined_features'])\n",
    "    user_vector = user_tfidf.transform([user_input])\n",
    "    \n",
    "    cosine_similarities = cosine_similarity(user_vector, tfidf_matrix).flatten()\n",
    "    related_docs_indices = cosine_similarities.argsort()[:-top_n-1:-1]\n",
    "    \n",
    "    return [(df.iloc[idx]['title'], cosine_similarities[idx]) for idx in related_docs_indices]"
   ]
  },
  {
   "cell_type": "markdown",
   "metadata": {},
   "source": [
    "## 6. Test the Recommendation System"
   ]
  },
  {
   "cell_type": "code",
   "execution_count": null,
   "metadata": {},
   "outputs": [],
   "source": [
    "user_input = \"I love thrilling action movies set in space, with a comedic twist.\"\n",
    "recommendations = get_recommendations(user_input, df_sample, tfidf_matrix)\n",
    "\n",
    "print(\"Top 5 movie recommendations:\")\n",
    "for i, (title, score) in enumerate(recommendations, 1):\n",
    "    print(f\"{i}. {title} (Similarity: {score:.2f})\")"
   ]
  },
  {
   "cell_type": "markdown",
   "metadata": {},
   "source": [
    "## 7. Visualize Recommendations"
   ]
  },
  {
   "cell_type": "code",
   "execution_count": null,
   "metadata": {},
   "outputs": [],
   "source": [
    "def plot_recommendations(recommendations):\n",
    "    titles, scores = zip(*recommendations)\n",
    "    plt.figure(figsize=(10, 6))\n",
    "    sns.barplot(x=list(scores), y=list(titles))\n",
    "    plt.title(\"Top 5 Movie Recommendations\")\n",
    "    plt.xlabel(\"Similarity Score\")\n",
    "    plt.ylabel(\"Movie Title\")\n",
    "    plt.show()\n",
    "\n",
    "plot_recommendations(recommendations)"
   ]
  },
  {
   "cell_type": "markdown",
   "metadata": {},
   "source": [
    "## 8. Interactive Recommendation System"
   ]
  },
  {
   "cell_type": "code",
   "execution_count": null,
   "metadata": {},
   "outputs": [],
   "source": [
    "def interactive_recommendations():\n",
    "    user_input = input(\"Describe the kind of movie you're looking for: \")\n",
    "    recommendations = get_recommendations(user_input, df_sample, tfidf_matrix)\n",
    "    \n",
    "    print(\"\\nTop 5 movie recommendations:\")\n",
    "    for i, (title, score) in enumerate(recommendations, 1):\n",
    "        print(f\"{i}. {title} (Similarity: {score:.2f})\")\n",
    "    \n",
    "    plot_recommendations(recommendations)\n",
    "\n",
    "interactive_recommendations()"
   ]
  }
 ],
 "metadata": {
  "kernelspec": {
   "display_name": "Python 3",
   "language": "python",
   "name": "python3"
  },
  "language_info": {
   "codemirror_mode": {
    "name": "ipython",
    "version": 3
   },
   "file_extension": ".py",
   "mimetype": "text/x-python",
   "name": "python",
   "nbconvert_exporter": "python",
   "pygments_lexer": "ipython3",
   "version": "3.8.5"
  }
 },
 "nbformat": 4,
 "nbformat_minor": 4
}

